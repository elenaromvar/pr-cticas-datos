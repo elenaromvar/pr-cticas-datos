{
 "cells": [
  {
   "cell_type": "markdown",
   "metadata": {},
   "source": [
    "# GRÁFICO RUSIA - UCRANIA"
   ]
  },
  {
   "cell_type": "markdown",
   "metadata": {},
   "source": [
    "R es un lenguaje de programación con un enfoque al análisis estadístico"
   ]
  },
  {
   "cell_type": "markdown",
   "metadata": {},
   "source": [
    "### Instalar librerías"
   ]
  },
  {
   "cell_type": "markdown",
   "metadata": {},
   "source": [
    "Para instalar las librerías: \n",
    "...\n",
    "`install.packages (\"ggplot2\")`\n",
    "...\n"
   ]
  },
  {
   "cell_type": "markdown",
   "metadata": {},
   "source": [
    "### Importar librerías"
   ]
  },
  {
   "cell_type": "code",
   "execution_count": 1,
   "metadata": {},
   "outputs": [],
   "source": [
    "library(ggplot2)"
   ]
  },
  {
   "cell_type": "markdown",
   "metadata": {},
   "source": [
    "### Crear datos"
   ]
  },
  {
   "cell_type": "markdown",
   "metadata": {},
   "source": [
    "Una vez hemos creado la librería, cargamos los datos. Introducimos unos datos para generar una gráfica a partir de ellos con unos datos dados por el profesor:"
   ]
  },
  {
   "cell_type": "code",
   "execution_count": 4,
   "metadata": {},
   "outputs": [
    {
     "data": {
      "image/png": "[encoded data removed]",
      "text/plain": [
       "plot without title"
      ]
     },
     "metadata": {
      "image/png": {
       "height": 420,
       "width": 420
      }
     },
     "output_type": "display_data"
    }
   ],
   "source": [
    "# create a dataset\n",
    "bajas <- c(rep(\"tanques\" , 2) , rep(\"artillería\" , 2) , rep(\"aeronaves\" , 2))\n",
    "paises <- rep(c(\"rusia\" , \"ucrania\") , 3)\n",
    "value <- abs(rnorm(12 , 0 , 15))\n",
    "data <- data.frame(bajas,paises,value)\n",
    " \n",
    "# Grouped\n",
    "ggplot(data, aes(fill=paises, y=value, x=bajas)) + \n",
    "    geom_bar(position=\"dodge\", stat=\"identity\")"
   ]
  },
  {
   "cell_type": "markdown",
   "metadata": {},
   "source": [
    "Puesto en común en la clase, vimos que a cada persona le sale un gráfico distinto, y llegamos a la conclusión de que es algo que a veces ocurre. Recordamos haber cambiado los datos y que no funcionase; es por eso por lo que tenemos dudas con la resolución de esta práctica"
   ]
  },
  {
   "cell_type": "code",
   "execution_count": null,
   "metadata": {},
   "outputs": [],
   "source": []
  }
 ],
 "metadata": {
  "kernelspec": {
   "display_name": "R",
   "language": "R",
   "name": "ir"
  },
  "language_info": {
   "codemirror_mode": "r",
   "file_extension": ".r",
   "mimetype": "text/x-r-source",
   "name": "R",
   "pygments_lexer": "r",
   "version": "4.1.0"
  }
 },
 "nbformat": 4,
 "nbformat_minor": 4
}
